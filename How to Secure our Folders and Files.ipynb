{
 "cells": [
  {
   "cell_type": "markdown",
   "metadata": {},
   "source": [
    "# How to Secure our Folders and Files"
   ]
  },
  {
   "cell_type": "code",
   "execution_count": 1,
   "metadata": {},
   "outputs": [],
   "source": [
    "import os\n",
    "import shutil"
   ]
  },
  {
   "cell_type": "code",
   "execution_count": 2,
   "metadata": {},
   "outputs": [
    {
     "name": "stdout",
     "output_type": "stream",
     "text": [
      "Enter the File Name = Digital Daru\n",
      "Enter New the Folder Name = secure\n",
      "Enter the Password = 12345\n"
     ]
    }
   ],
   "source": [
    "old = input(\"Enter the File Name = \")\n",
    "new = input(\"Enter New the Folder Name = \")\n",
    "passw = input(\"Enter the Password = \")\n",
    "new_folder = \"C:/Users/MR. Fair Person/Desktop\""
   ]
  },
  {
   "cell_type": "code",
   "execution_count": 3,
   "metadata": {},
   "outputs": [],
   "source": [
    "new_folder = os.path.join(new_folder,new)"
   ]
  },
  {
   "cell_type": "code",
   "execution_count": 4,
   "metadata": {},
   "outputs": [],
   "source": [
    "os.mkdir(new_folder)"
   ]
  },
  {
   "cell_type": "code",
   "execution_count": 5,
   "metadata": {},
   "outputs": [
    {
     "name": "stdout",
     "output_type": "stream",
     "text": [
      "Your Folder or File is now Secured ;)\n"
     ]
    }
   ],
   "source": [
    "for i in passw:\n",
    "    for j in range(0,10):\n",
    "        path = os.path.join(new_folder,str(j))\n",
    "        try:\n",
    "            os.mkdir(path)\n",
    "        except:\n",
    "            pass\n",
    "        for k in range(0,10):\n",
    "            path2 = os.path.join(path,str(k))\n",
    "            try:\n",
    "                os.mkdir(path2)\n",
    "            except:\n",
    "                pass\n",
    "    new_folder = new_folder + \"/\" + i\n",
    "\n",
    "try:\n",
    "    shutil.move(old,new_folder)\n",
    "    print(\"Your Folder or File is now Secured ;)\")\n",
    "except:\n",
    "    pass"
   ]
  },
  {
   "cell_type": "code",
   "execution_count": null,
   "metadata": {},
   "outputs": [],
   "source": []
  }
 ],
 "metadata": {
  "kernelspec": {
   "display_name": "Python 3",
   "language": "python",
   "name": "python3"
  },
  "language_info": {
   "codemirror_mode": {
    "name": "ipython",
    "version": 3
   },
   "file_extension": ".py",
   "mimetype": "text/x-python",
   "name": "python",
   "nbconvert_exporter": "python",
   "pygments_lexer": "ipython3",
   "version": "3.7.7"
  }
 },
 "nbformat": 4,
 "nbformat_minor": 4
}
